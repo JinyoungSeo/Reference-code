{
 "cells": [
  {
   "cell_type": "code",
   "execution_count": null,
   "id": "45caf8ff",
   "metadata": {},
   "outputs": [],
   "source": [
    "print(train['datetime'][100]) # datetime 100번째 요소\n",
    "print(train['datetime'][100].split()) # 공백 기준으로 문자열 나누기\n",
    "print(train['datetime'][100].split()[0]) # 날짜\n",
    "print(train['datetime'][100].split()[1]) # 시간"
   ]
  },
  {
   "cell_type": "code",
   "execution_count": null,
   "id": "6e8a53c9",
   "metadata": {},
   "outputs": [],
   "source": [
    "print(train['datetime'][100].split()[0]) # 날짜\n",
    "print(train['datetime'][100].split()[0].split('-')) # \"_\" 기준으로 문자열 나누기\n",
    "print(train['datetime'][100].split()[0].split('-')[0]) # 연도\n",
    "print(train['datetime'][100].split()[0].split('-')[1]) # 월\n",
    "print(train['datetime'][100].split()[0].split('-')[2]) # 일"
   ]
  },
  {
   "cell_type": "code",
   "execution_count": null,
   "id": "c43b4a19",
   "metadata": {},
   "outputs": [],
   "source": [
    "print(train['datetime'][100].split()[1]) # 시간\n",
    "print(train['datetime'][100].split()[1].split(':')) # \":\" 기준으로 문자열 나누기\n",
    "print(train['datetime'][100].split()[1].split(':')[0]) # 시간\n",
    "print(train['datetime'][100].split()[1].split(':')[1]) # 분\n",
    "print(train['datetime'][100].split()[1].split(':')[2]) # 초"
   ]
  },
  {
   "cell_type": "code",
   "execution_count": null,
   "id": "4beade28",
   "metadata": {},
   "outputs": [],
   "source": [
    "train['date'] = train['datetime'].apply(lambda x: x.split()[0]) # 날짜 피처 생성\n",
    "\n",
    "# 연도, 월, 일, 시, 분, 초 피처를 차례로 생성\n",
    "train['year'] = train['datetime'].apply(lambda x: x.split()[0].split('-')[0]) \n",
    "train['month'] = train['datetime'].apply(lambda x: x.split()[0].split('-')[1])\n",
    "train['day'] = train['datetime'].apply(lambda x: x.split()[0].split('-')[2]) \n",
    "train['hour'] = train['datetime'].apply(lambda x: x.split()[1].split(':')[0])\n",
    "train['minute'] = train['datetime'].apply(lambda x: x.split()[1].split(':')[1])\n",
    "train['second'] = train['datetime'].apply(lambda x: x.split()[1].split(':')[2])"
   ]
  }
 ],
 "metadata": {
  "kernelspec": {
   "display_name": "Python 3",
   "language": "python",
   "name": "python3"
  },
  "language_info": {
   "codemirror_mode": {
    "name": "ipython",
    "version": 3
   },
   "file_extension": ".py",
   "mimetype": "text/x-python",
   "name": "python",
   "nbconvert_exporter": "python",
   "pygments_lexer": "ipython3",
   "version": "3.8.8"
  }
 },
 "nbformat": 4,
 "nbformat_minor": 5
}
