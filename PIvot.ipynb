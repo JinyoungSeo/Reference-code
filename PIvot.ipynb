{
 "cells": [
  {
   "cell_type": "code",
   "execution_count": null,
   "id": "1fbce312",
   "metadata": {},
   "outputs": [],
   "source": [
    "target = df.loc[df['분류값명2']=='계']\n",
    "target['수록시점'] = pd.to_datetime(target['수록시점'], format=\"%Y%m\")\n",
    "target['수치값'] = pd.to_numeric(target['수치값'])\n",
    "pv = target.pivot(index=[\"수록시점\"], columns=[\"분류값명1\",\"분류값명2\"], values=\"수치값\")\n",
    "newCols = list(map(lambda x: x[0]+\"_\"+x[1], pv.columns))\n",
    "pv.columns = newCols\n",
    "pv = pv.reset_index()\n",
    "pv['수록시점'] = pd.to_datetime(pv['수록시점'], format=\"%Y%m\")\n",
    "for col in pv.columns[1:]:\n",
    "    pv[col] = pd.to_numeric(pv[col])\n",
    "pv = pv.set_index(\"수록시점\")\n",
    "pv"
   ]
  },
  {
   "cell_type": "code",
   "execution_count": null,
   "id": "1c4d790e",
   "metadata": {},
   "outputs": [],
   "source": [
    "pv_Licensing = df_Licensing.pivot_table(index=[\"수록시점\"], columns=[\"분류값명3\"], values=\"수치값\", aggfunc='sum')"
   ]
  },
  {
   "cell_type": "code",
   "execution_count": null,
   "id": "55cc47d6",
   "metadata": {},
   "outputs": [],
   "source": []
  }
 ],
 "metadata": {
  "kernelspec": {
   "display_name": "Python 3",
   "language": "python",
   "name": "python3"
  },
  "language_info": {
   "codemirror_mode": {
    "name": "ipython",
    "version": 3
   },
   "file_extension": ".py",
   "mimetype": "text/x-python",
   "name": "python",
   "nbconvert_exporter": "python",
   "pygments_lexer": "ipython3",
   "version": "3.8.8"
  }
 },
 "nbformat": 4,
 "nbformat_minor": 5
}
